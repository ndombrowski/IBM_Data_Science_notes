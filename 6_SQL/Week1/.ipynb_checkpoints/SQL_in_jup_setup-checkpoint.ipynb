{
 "cells": [
  {
   "cell_type": "markdown",
   "metadata": {},
   "source": [
    "# Using Sql in jupyter\n",
    "\n",
    "## Initial setup"
   ]
  },
  {
   "cell_type": "code",
   "execution_count": 2,
   "metadata": {},
   "outputs": [],
   "source": [
    "#initial install to be able to use sql in jupyter notebook\n",
    "#!/opt/anaconda3/bin/pip install ipython-sql\n",
    "#!/opt/anaconda3/bin/pip install datasette"
   ]
  },
  {
   "cell_type": "code",
   "execution_count": 26,
   "metadata": {},
   "outputs": [
    {
     "data": {
      "text/plain": [
       "Engine(sqlite:////Users/ninadombrowski/Desktop/WorkingDir/Notebooks/IBM_Data_Science/4/Week1/Film_Locations_in_San_Francisco.db)"
      ]
     },
     "execution_count": 26,
     "metadata": {},
     "output_type": "execute_result"
    }
   ],
   "source": [
    "#setup database (not yet working)\n",
    "#import sqlalchemy\n",
    "#sqlalchemy.create_engine('sqlite:////Users/ninadombrowski/Desktop/WorkingDir/Notebooks/IBM_Data_Science/4/Week1/Film_Locations_in_San_Francisco.db')\n",
    "\n",
    "#%load_ext sql\n",
    "\n",
    "#%sql sqlite://Film_Locations_in_San_Francisco.db"
   ]
  },
  {
   "cell_type": "code",
   "execution_count": 49,
   "metadata": {},
   "outputs": [],
   "source": [
    "#load libraries\n",
    "import sqlalchemy\n",
    "from sqlalchemy import  create_engine\n",
    "import sqlite3 as sql\n",
    "import pandas as pd\n",
    "\n",
    "#show all results per chunk\n",
    "from IPython.core.interactiveshell import InteractiveShell\n",
    "InteractiveShell.ast_node_interactivity = \"all\""
   ]
  },
  {
   "cell_type": "markdown",
   "metadata": {},
   "source": [
    "## Trial 1"
   ]
  },
  {
   "cell_type": "code",
   "execution_count": 39,
   "metadata": {},
   "outputs": [],
   "source": [
    "#connect to database\n",
    "connection = sql.connect('Film_Locations_in_San_Francisco.db')"
   ]
  },
  {
   "cell_type": "code",
   "execution_count": 42,
   "metadata": {},
   "outputs": [],
   "source": [
    "#select query\n",
    "sql_query = '''SELECT * FROM Film_Locations_in_San_Francisco'''"
   ]
  },
  {
   "cell_type": "code",
   "execution_count": 43,
   "metadata": {},
   "outputs": [],
   "source": [
    "#create database with your query and the input\n",
    "df = pd.read_sql_query(sql_query, connection)"
   ]
  },
  {
   "cell_type": "code",
   "execution_count": 45,
   "metadata": {},
   "outputs": [
    {
     "data": {
      "text/html": [
       "<div>\n",
       "<style scoped>\n",
       "    .dataframe tbody tr th:only-of-type {\n",
       "        vertical-align: middle;\n",
       "    }\n",
       "\n",
       "    .dataframe tbody tr th {\n",
       "        vertical-align: top;\n",
       "    }\n",
       "\n",
       "    .dataframe thead th {\n",
       "        text-align: right;\n",
       "    }\n",
       "</style>\n",
       "<table border=\"1\" class=\"dataframe\">\n",
       "  <thead>\n",
       "    <tr style=\"text-align: right;\">\n",
       "      <th></th>\n",
       "      <th>Title</th>\n",
       "      <th>Release Year</th>\n",
       "      <th>Locations</th>\n",
       "      <th>Fun Facts</th>\n",
       "      <th>Production Company</th>\n",
       "      <th>Distributor</th>\n",
       "      <th>Director</th>\n",
       "      <th>Writer</th>\n",
       "      <th>Actor 1</th>\n",
       "      <th>Actor 2</th>\n",
       "      <th>Actor 3</th>\n",
       "    </tr>\n",
       "  </thead>\n",
       "  <tbody>\n",
       "    <tr>\n",
       "      <th>0</th>\n",
       "      <td>A Jitney Elopement</td>\n",
       "      <td>1915</td>\n",
       "      <td>20th and Folsom Streets</td>\n",
       "      <td>None</td>\n",
       "      <td>The Essanay Film Manufacturing Company</td>\n",
       "      <td>General Film Company</td>\n",
       "      <td>Charles Chaplin</td>\n",
       "      <td>Charles Chaplin</td>\n",
       "      <td>Charles Chaplin</td>\n",
       "      <td>Edna Purviance</td>\n",
       "      <td>None</td>\n",
       "    </tr>\n",
       "    <tr>\n",
       "      <th>1</th>\n",
       "      <td>A Jitney Elopement</td>\n",
       "      <td>1915</td>\n",
       "      <td>Golden Gate Park</td>\n",
       "      <td>During San Francisco's Gold Rush era, the Park...</td>\n",
       "      <td>The Essanay Film Manufacturing Company</td>\n",
       "      <td>General Film Company</td>\n",
       "      <td>Charles Chaplin</td>\n",
       "      <td>Charles Chaplin</td>\n",
       "      <td>Charles Chaplin</td>\n",
       "      <td>Edna Purviance</td>\n",
       "      <td>None</td>\n",
       "    </tr>\n",
       "    <tr>\n",
       "      <th>2</th>\n",
       "      <td>Greed</td>\n",
       "      <td>1924</td>\n",
       "      <td>Cliff House (1090 Point Lobos Avenue)</td>\n",
       "      <td>In 1887, the Cliff House was severely damaged ...</td>\n",
       "      <td>Metro-Goldwyn-Mayer (MGM)</td>\n",
       "      <td>Metro-Goldwyn-Mayer (MGM)</td>\n",
       "      <td>Eric von Stroheim</td>\n",
       "      <td>Eric von Stroheim</td>\n",
       "      <td>Zasu Pitts</td>\n",
       "      <td>Gibson Gowland</td>\n",
       "      <td>Jean Hersholt</td>\n",
       "    </tr>\n",
       "  </tbody>\n",
       "</table>\n",
       "</div>"
      ],
      "text/plain": [
       "                Title  Release Year                              Locations  \\\n",
       "0  A Jitney Elopement          1915                20th and Folsom Streets   \n",
       "1  A Jitney Elopement          1915                       Golden Gate Park   \n",
       "2               Greed          1924  Cliff House (1090 Point Lobos Avenue)   \n",
       "\n",
       "                                           Fun Facts  \\\n",
       "0                                               None   \n",
       "1  During San Francisco's Gold Rush era, the Park...   \n",
       "2  In 1887, the Cliff House was severely damaged ...   \n",
       "\n",
       "                       Production Company                Distributor  \\\n",
       "0  The Essanay Film Manufacturing Company       General Film Company   \n",
       "1  The Essanay Film Manufacturing Company       General Film Company   \n",
       "2               Metro-Goldwyn-Mayer (MGM)  Metro-Goldwyn-Mayer (MGM)   \n",
       "\n",
       "            Director             Writer          Actor 1         Actor 2  \\\n",
       "0    Charles Chaplin    Charles Chaplin  Charles Chaplin  Edna Purviance   \n",
       "1    Charles Chaplin    Charles Chaplin  Charles Chaplin  Edna Purviance   \n",
       "2  Eric von Stroheim  Eric von Stroheim       Zasu Pitts  Gibson Gowland   \n",
       "\n",
       "         Actor 3  \n",
       "0           None  \n",
       "1           None  \n",
       "2  Jean Hersholt  "
      ]
     },
     "execution_count": 45,
     "metadata": {},
     "output_type": "execute_result"
    }
   ],
   "source": [
    "df.head(3)"
   ]
  },
  {
   "cell_type": "markdown",
   "metadata": {},
   "source": [
    "## Trial 2"
   ]
  },
  {
   "cell_type": "code",
   "execution_count": 15,
   "metadata": {},
   "outputs": [],
   "source": [
    "import sqlalchemy\n",
    "from sqlalchemy import  create_engine"
   ]
  },
  {
   "cell_type": "code",
   "execution_count": 17,
   "metadata": {},
   "outputs": [],
   "source": [
    "#create an engine\n",
    "db1= sqlalchemy.create_engine('sqlite:///Film_Locations_in_San_Francisco.db')"
   ]
  },
  {
   "cell_type": "code",
   "execution_count": 30,
   "metadata": {},
   "outputs": [
    {
     "data": {
      "text/plain": [
       "<sqlalchemy.engine.base.Connection at 0x7fdcbff548d0>"
      ]
     },
     "execution_count": 30,
     "metadata": {},
     "output_type": "execute_result"
    }
   ],
   "source": [
    "#connect to db\n",
    "db1.connect()"
   ]
  },
  {
   "cell_type": "code",
   "execution_count": 20,
   "metadata": {},
   "outputs": [],
   "source": [
    "#load sql module, use reload if already done\n",
    "%load_ext sql"
   ]
  },
  {
   "cell_type": "code",
   "execution_count": 33,
   "metadata": {},
   "outputs": [],
   "source": [
    "%sql sqlite:///Film_Locations_in_San_Francisco.db"
   ]
  },
  {
   "cell_type": "code",
   "execution_count": 35,
   "metadata": {},
   "outputs": [
    {
     "name": "stdout",
     "output_type": "stream",
     "text": [
      " * sqlite:///Film_Locations_in_San_Francisco.db\n",
      "Done.\n"
     ]
    },
    {
     "data": {
      "text/html": [
       "<table>\n",
       "    <tr>\n",
       "        <th>Title</th>\n",
       "        <th>Release Year</th>\n",
       "        <th>Locations</th>\n",
       "        <th>Fun Facts</th>\n",
       "        <th>Production Company</th>\n",
       "        <th>Distributor</th>\n",
       "        <th>Director</th>\n",
       "        <th>Writer</th>\n",
       "        <th>Actor 1</th>\n",
       "        <th>Actor 2</th>\n",
       "        <th>Actor 3</th>\n",
       "    </tr>\n",
       "    <tr>\n",
       "        <td>A Jitney Elopement</td>\n",
       "        <td>1915</td>\n",
       "        <td>20th and Folsom Streets</td>\n",
       "        <td>None</td>\n",
       "        <td>The Essanay Film Manufacturing Company</td>\n",
       "        <td>General Film Company</td>\n",
       "        <td>Charles Chaplin</td>\n",
       "        <td>Charles Chaplin</td>\n",
       "        <td>Charles Chaplin</td>\n",
       "        <td>Edna Purviance</td>\n",
       "        <td>None</td>\n",
       "    </tr>\n",
       "    <tr>\n",
       "        <td>A Jitney Elopement</td>\n",
       "        <td>1915</td>\n",
       "        <td>Golden Gate Park</td>\n",
       "        <td>During San Francisco&#x27;s Gold Rush era, the Park was part of an area designated as the &quot;Great Sand Waste&quot;.</td>\n",
       "        <td>The Essanay Film Manufacturing Company</td>\n",
       "        <td>General Film Company</td>\n",
       "        <td>Charles Chaplin</td>\n",
       "        <td>Charles Chaplin</td>\n",
       "        <td>Charles Chaplin</td>\n",
       "        <td>Edna Purviance</td>\n",
       "        <td>None</td>\n",
       "    </tr>\n",
       "    <tr>\n",
       "        <td>Greed</td>\n",
       "        <td>1924</td>\n",
       "        <td>Cliff House (1090 Point Lobos Avenue)</td>\n",
       "        <td>In 1887, the Cliff House was severely damaged when the schooner Parallel, abandoned and loaded with dynamite, ran aground on the rocks below.</td>\n",
       "        <td>Metro-Goldwyn-Mayer (MGM)</td>\n",
       "        <td>Metro-Goldwyn-Mayer (MGM)</td>\n",
       "        <td>Eric von Stroheim</td>\n",
       "        <td>Eric von Stroheim</td>\n",
       "        <td>Zasu Pitts</td>\n",
       "        <td>Gibson Gowland</td>\n",
       "        <td>Jean Hersholt</td>\n",
       "    </tr>\n",
       "    <tr>\n",
       "        <td>Greed</td>\n",
       "        <td>1924</td>\n",
       "        <td>Bush and Sutter Streets</td>\n",
       "        <td>None</td>\n",
       "        <td>Metro-Goldwyn-Mayer (MGM)</td>\n",
       "        <td>Metro-Goldwyn-Mayer (MGM)</td>\n",
       "        <td>Eric von Stroheim</td>\n",
       "        <td>Eric von Stroheim</td>\n",
       "        <td>Zasu Pitts</td>\n",
       "        <td>Gibson Gowland</td>\n",
       "        <td>Jean Hersholt</td>\n",
       "    </tr>\n",
       "    <tr>\n",
       "        <td>Greed</td>\n",
       "        <td>1924</td>\n",
       "        <td>Hayes Street at Laguna</td>\n",
       "        <td>None</td>\n",
       "        <td>Metro-Goldwyn-Mayer (MGM)</td>\n",
       "        <td>Metro-Goldwyn-Mayer (MGM)</td>\n",
       "        <td>Eric von Stroheim</td>\n",
       "        <td>Eric von Stroheim</td>\n",
       "        <td>Zasu Pitts</td>\n",
       "        <td>Gibson Gowland</td>\n",
       "        <td>Jean Hersholt</td>\n",
       "    </tr>\n",
       "</table>"
      ],
      "text/plain": [
       "[('A Jitney Elopement', 1915, '20th and Folsom Streets', None, 'The Essanay Film Manufacturing Company', 'General Film Company', 'Charles Chaplin', 'Charles Chaplin', 'Charles Chaplin', 'Edna Purviance', None),\n",
       " ('A Jitney Elopement', 1915, 'Golden Gate Park', 'During San Francisco\\'s Gold Rush era, the Park was part of an area designated as the \"Great Sand Waste\".', 'The Essanay Film Manufacturing Company', 'General Film Company', 'Charles Chaplin', 'Charles Chaplin', 'Charles Chaplin', 'Edna Purviance', None),\n",
       " ('Greed', 1924, 'Cliff House (1090 Point Lobos Avenue)', 'In 1887, the Cliff House was severely damaged when the schooner Parallel, abandoned and loaded with dynamite, ran aground on the rocks below.', 'Metro-Goldwyn-Mayer (MGM)', 'Metro-Goldwyn-Mayer (MGM)', 'Eric von Stroheim', 'Eric von Stroheim', 'Zasu Pitts', 'Gibson Gowland', 'Jean Hersholt'),\n",
       " ('Greed', 1924, 'Bush and Sutter Streets', None, 'Metro-Goldwyn-Mayer (MGM)', 'Metro-Goldwyn-Mayer (MGM)', 'Eric von Stroheim', 'Eric von Stroheim', 'Zasu Pitts', 'Gibson Gowland', 'Jean Hersholt'),\n",
       " ('Greed', 1924, 'Hayes Street at Laguna', None, 'Metro-Goldwyn-Mayer (MGM)', 'Metro-Goldwyn-Mayer (MGM)', 'Eric von Stroheim', 'Eric von Stroheim', 'Zasu Pitts', 'Gibson Gowland', 'Jean Hersholt')]"
      ]
     },
     "execution_count": 35,
     "metadata": {},
     "output_type": "execute_result"
    }
   ],
   "source": [
    "%%sql\n",
    "SELECT * FROM Film_Locations_in_San_Francisco LIMIT 5"
   ]
  },
  {
   "cell_type": "code",
   "execution_count": 52,
   "metadata": {},
   "outputs": [
    {
     "name": "stdout",
     "output_type": "stream",
     "text": [
      " * sqlite:///Film_Locations_in_San_Francisco.db\n",
      "Done.\n"
     ]
    },
    {
     "data": {
      "text/html": [
       "<table>\n",
       "    <tr>\n",
       "        <th>COUNT(*)</th>\n",
       "    </tr>\n",
       "    <tr>\n",
       "        <td>1976</td>\n",
       "    </tr>\n",
       "</table>"
      ],
      "text/plain": [
       "[(1976,)]"
      ]
     },
     "execution_count": 52,
     "metadata": {},
     "output_type": "execute_result"
    }
   ],
   "source": [
    "%%sql\n",
    "select COUNT(*) from Film_Locations_in_San_Francisco;"
   ]
  },
  {
   "cell_type": "code",
   "execution_count": null,
   "metadata": {},
   "outputs": [],
   "source": [
    "%%sql\n",
    "select COUNT(Locations) from Film_Locations_in_San_Francisco\n",
    "where Writer = \"James Cameron\";"
   ]
  },
  {
   "cell_type": "markdown",
   "metadata": {},
   "source": [
    "# Trial 3\n",
    "\n",
    "When using datasette Whenever there is  spaces in columns enter within [] brackets for Example\n",
    "\n",
    "SELECT Title, [Release Year], Locations FROM FilmLocations WHERE [Release Year]<=2000;"
   ]
  },
  {
   "cell_type": "code",
   "execution_count": 3,
   "metadata": {},
   "outputs": [],
   "source": [
    "import sqlite3\n",
    "conn = sqlite3.connect('Film_Locations_in_San_Francisco.db')\n",
    "c = conn.cursor()"
   ]
  },
  {
   "cell_type": "code",
   "execution_count": null,
   "metadata": {},
   "outputs": [],
   "source": [
    "#!datasette"
   ]
  }
 ],
 "metadata": {
  "kernelspec": {
   "display_name": "Python 3",
   "language": "python",
   "name": "python3"
  },
  "language_info": {
   "codemirror_mode": {
    "name": "ipython",
    "version": 3
   },
   "file_extension": ".py",
   "mimetype": "text/x-python",
   "name": "python",
   "nbconvert_exporter": "python",
   "pygments_lexer": "ipython3",
   "version": "3.7.6"
  }
 },
 "nbformat": 4,
 "nbformat_minor": 2
}
