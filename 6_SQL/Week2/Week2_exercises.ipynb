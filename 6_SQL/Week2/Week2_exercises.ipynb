{
 "cells": [
  {
   "cell_type": "markdown",
   "metadata": {},
   "source": [
    "# SQL: Creating databases from scratch\n",
    "\n",
    "First lets setup the notebook\n",
    "\n",
    "**Notice** SQLite supports a limited subset of ALTER TABLE. The ALTER TABLE command in SQLite allows the user to rename a table or to add a new column to an existing table. It is not possible to rename a column, remove a column, or add or remove constraints from a table."
   ]
  },
  {
   "cell_type": "code",
   "execution_count": 9,
   "metadata": {},
   "outputs": [],
   "source": [
    "#!/opt/anaconda3/bin/pip install mysqlclient\n",
    "#!/opt/anaconda3/bin/pip install mysql-python\n",
    "#!pip install update sqlite3\n",
    "#!pip install sqlalchemy"
   ]
  },
  {
   "cell_type": "code",
   "execution_count": 26,
   "metadata": {},
   "outputs": [],
   "source": [
    "#load libraries\n",
    "import sqlalchemy\n",
    "from sqlalchemy import  create_engine\n",
    "import sqlite3 as sql\n",
    "import pandas as pd\n",
    "\n",
    "#show all results per chunk\n",
    "from IPython.core.interactiveshell import InteractiveShell\n",
    "InteractiveShell.ast_node_interactivity = \"all\""
   ]
  },
  {
   "cell_type": "code",
   "execution_count": null,
   "metadata": {},
   "outputs": [],
   "source": [
    "#export LD_LIBRARY_PATH=\"/usr/local/lib\""
   ]
  },
  {
   "cell_type": "code",
   "execution_count": 27,
   "metadata": {},
   "outputs": [
    {
     "data": {
      "text/plain": [
       "'3.31.1'"
      ]
     },
     "execution_count": 27,
     "metadata": {},
     "output_type": "execute_result"
    }
   ],
   "source": [
    "import sqlite3 as sql\n",
    "sql.sqlite_version"
   ]
  },
  {
   "cell_type": "code",
   "execution_count": 28,
   "metadata": {},
   "outputs": [],
   "source": [
    "#setup empty connection\n",
    "pet_db = create_engine(\"sqlite:///:memory:\")"
   ]
  },
  {
   "cell_type": "code",
   "execution_count": 29,
   "metadata": {},
   "outputs": [],
   "source": [
    "#load sql module, use reload if already done\n",
    "%reload_ext sql"
   ]
  },
  {
   "cell_type": "code",
   "execution_count": 12,
   "metadata": {},
   "outputs": [],
   "source": [
    "#sql.version\n",
    "#import sys\n",
    "#print(sys.path)"
   ]
  },
  {
   "cell_type": "code",
   "execution_count": 13,
   "metadata": {},
   "outputs": [
    {
     "data": {
      "text/plain": [
       "'/opt/anaconda3/lib/python3.7/sqlite3/__init__.py'"
      ]
     },
     "execution_count": 13,
     "metadata": {},
     "output_type": "execute_result"
    }
   ],
   "source": [
    "#import os\n",
    "#os.path.abspath(sql.__file__)\n",
    "#os.path.basename(sql)\n",
    "#pysqlite2"
   ]
  },
  {
   "cell_type": "code",
   "execution_count": 30,
   "metadata": {},
   "outputs": [],
   "source": [
    "%sql sqlite:///pet_db"
   ]
  },
  {
   "cell_type": "code",
   "execution_count": 31,
   "metadata": {},
   "outputs": [
    {
     "name": "stdout",
     "output_type": "stream",
     "text": [
      " * sqlite:///pet_db\n",
      "(sqlite3.OperationalError) table PETSALE already exists\n",
      "[SQL: CREATE TABLE PETSALE (\n",
      "    ID INTEGER NOT NULL,\n",
      "    PET CHAR(20),\n",
      "    SALEPRICE DECIMAL(6,2),\n",
      "    PROFIT DECIMAL(6,2),\n",
      "    SALEDATE DATE\n",
      "    );]\n",
      "(Background on this error at: http://sqlalche.me/e/e3q8)\n"
     ]
    }
   ],
   "source": [
    "%%sql\n",
    "CREATE TABLE PETSALE (\n",
    "    ID INTEGER NOT NULL,\n",
    "    PET CHAR(20),\n",
    "    SALEPRICE DECIMAL(6,2),\n",
    "    PROFIT DECIMAL(6,2),\n",
    "    SALEDATE DATE\n",
    "    );"
   ]
  },
  {
   "cell_type": "code",
   "execution_count": 32,
   "metadata": {},
   "outputs": [
    {
     "name": "stdout",
     "output_type": "stream",
     "text": [
      " * sqlite:///pet_db\n",
      "(sqlite3.OperationalError) table PET already exists\n",
      "[SQL: CREATE TABLE PET (\n",
      "    ID INTEGER NOT NULL,\n",
      "    ANIMAL VARCHAR(20),\n",
      "    QUANTITY INTEGER\n",
      "    );]\n",
      "(Background on this error at: http://sqlalche.me/e/e3q8)\n"
     ]
    }
   ],
   "source": [
    "%%sql\n",
    "CREATE TABLE PET (\n",
    "    ID INTEGER NOT NULL,\n",
    "    ANIMAL VARCHAR(20),\n",
    "    QUANTITY INTEGER\n",
    "    );"
   ]
  },
  {
   "cell_type": "code",
   "execution_count": 33,
   "metadata": {},
   "outputs": [
    {
     "name": "stdout",
     "output_type": "stream",
     "text": [
      " * sqlite:///pet_db\n",
      "Done.\n"
     ]
    },
    {
     "data": {
      "text/html": [
       "<table>\n",
       "    <tr>\n",
       "        <th>ID</th>\n",
       "        <th>ANIMAL</th>\n",
       "        <th>QUANTITY</th>\n",
       "    </tr>\n",
       "    <tr>\n",
       "        <td>1</td>\n",
       "        <td>Cat</td>\n",
       "        <td>2</td>\n",
       "    </tr>\n",
       "    <tr>\n",
       "        <td>2</td>\n",
       "        <td>Dog</td>\n",
       "        <td>4</td>\n",
       "    </tr>\n",
       "    <tr>\n",
       "        <td>3</td>\n",
       "        <td>Hamster</td>\n",
       "        <td>2</td>\n",
       "    </tr>\n",
       "</table>"
      ],
      "text/plain": [
       "[(1, 'Cat', 2), (2, 'Dog', 4), (3, 'Hamster', 2)]"
      ]
     },
     "execution_count": 33,
     "metadata": {},
     "output_type": "execute_result"
    }
   ],
   "source": [
    "%%sql\n",
    "select * from PET"
   ]
  },
  {
   "cell_type": "code",
   "execution_count": 34,
   "metadata": {},
   "outputs": [
    {
     "name": "stdout",
     "output_type": "stream",
     "text": [
      " * sqlite:///pet_db\n",
      "(sqlite3.OperationalError) table PETSALE has 6 columns but 5 values were supplied\n",
      "[SQL: --Add values into petsale\n",
      "INSERT INTO PETSALE VALUES\n",
      "    (1,'Cat',450.09,100.47,'2018-05-29'),\n",
      "    (2,'Dog',666.66,150.76,'2018-06-01'),\n",
      "    (3,'Parrot',50.00,8.9,'2018-06-04'),\n",
      "    (4,'Hamster',60.60,12,'2018-06-11'),\n",
      "    (5,'Goldfish',48.48,3.5,'2018-06-14');]\n",
      "(Background on this error at: http://sqlalche.me/e/e3q8)\n"
     ]
    }
   ],
   "source": [
    "%%sql\n",
    "--Add values into petsale\n",
    "INSERT INTO PETSALE VALUES\n",
    "    (1,'Cat',450.09,100.47,'2018-05-29'),\n",
    "    (2,'Dog',666.66,150.76,'2018-06-01'),\n",
    "    (3,'Parrot',50.00,8.9,'2018-06-04'),\n",
    "    (4,'Hamster',60.60,12,'2018-06-11'),\n",
    "    (5,'Goldfish',48.48,3.5,'2018-06-14');\n",
    "\n",
    "--Add values into PET\n",
    "INSERT INTO PET VALUES\n",
    "    (1,'Cat',2),\n",
    "    (2,'Dog',4),\n",
    "    (3,'Hamster',2);    "
   ]
  },
  {
   "cell_type": "code",
   "execution_count": 35,
   "metadata": {},
   "outputs": [
    {
     "name": "stdout",
     "output_type": "stream",
     "text": [
      " * sqlite:///pet_db\n",
      "Done.\n"
     ]
    },
    {
     "data": {
      "text/html": [
       "<table>\n",
       "    <tr>\n",
       "        <th>ID</th>\n",
       "        <th>PET</th>\n",
       "        <th>SALEPRICE</th>\n",
       "        <th>PROFIT</th>\n",
       "        <th>SALEDATE</th>\n",
       "        <th>QUANTITY</th>\n",
       "    </tr>\n",
       "    <tr>\n",
       "        <td>1</td>\n",
       "        <td>Cat</td>\n",
       "        <td>450.09</td>\n",
       "        <td>100.47</td>\n",
       "        <td>2018-05-29</td>\n",
       "        <td>9</td>\n",
       "    </tr>\n",
       "    <tr>\n",
       "        <td>2</td>\n",
       "        <td>Dog</td>\n",
       "        <td>666.66</td>\n",
       "        <td>150.76</td>\n",
       "        <td>2018-06-01</td>\n",
       "        <td>40</td>\n",
       "    </tr>\n",
       "    <tr>\n",
       "        <td>3</td>\n",
       "        <td>Parrot</td>\n",
       "        <td>50</td>\n",
       "        <td>8.9</td>\n",
       "        <td>2018-06-04</td>\n",
       "        <td>9</td>\n",
       "    </tr>\n",
       "    <tr>\n",
       "        <td>4</td>\n",
       "        <td>Hamster</td>\n",
       "        <td>60.6</td>\n",
       "        <td>12</td>\n",
       "        <td>2018-06-11</td>\n",
       "        <td>9</td>\n",
       "    </tr>\n",
       "    <tr>\n",
       "        <td>5</td>\n",
       "        <td>Goldfish</td>\n",
       "        <td>48.48</td>\n",
       "        <td>3.5</td>\n",
       "        <td>2018-06-14</td>\n",
       "        <td>9</td>\n",
       "    </tr>\n",
       "</table>"
      ],
      "text/plain": [
       "[(1, 'Cat', 450.09, 100.47, '2018-05-29', 9),\n",
       " (2, 'Dog', 666.66, 150.76, '2018-06-01', 40),\n",
       " (3, 'Parrot', 50, 8.9, '2018-06-04', 9),\n",
       " (4, 'Hamster', 60.6, 12, '2018-06-11', 9),\n",
       " (5, 'Goldfish', 48.48, 3.5, '2018-06-14', 9)]"
      ]
     },
     "execution_count": 35,
     "metadata": {},
     "output_type": "execute_result"
    }
   ],
   "source": [
    "%%sql\n",
    "select * from Petsale;"
   ]
  },
  {
   "cell_type": "markdown",
   "metadata": {},
   "source": [
    "Add a new QUANTITY column to the PETSALE table and show the altered table. Copy the code below and paste it to the textbox of the Run SQL page. Click Run all."
   ]
  },
  {
   "cell_type": "code",
   "execution_count": 20,
   "metadata": {},
   "outputs": [
    {
     "name": "stdout",
     "output_type": "stream",
     "text": [
      " * sqlite:///pet_db\n",
      "(sqlite3.OperationalError) duplicate column name: QUANTITY\n",
      "[SQL: Alter table PETSALE\n",
      "ADD column QUANTITY integer;]\n",
      "(Background on this error at: http://sqlalche.me/e/e3q8)\n"
     ]
    }
   ],
   "source": [
    "%%sql\n",
    "Alter table PETSALE\n",
    "ADD column QUANTITY integer;\n",
    "\n",
    "select * from PETSALE"
   ]
  },
  {
   "cell_type": "code",
   "execution_count": 36,
   "metadata": {},
   "outputs": [
    {
     "name": "stdout",
     "output_type": "stream",
     "text": [
      " * sqlite:///pet_db\n",
      "1 rows affected.\n",
      "1 rows affected.\n",
      "1 rows affected.\n",
      "1 rows affected.\n",
      "1 rows affected.\n",
      "Done.\n"
     ]
    },
    {
     "data": {
      "text/html": [
       "<table>\n",
       "    <tr>\n",
       "        <th>ID</th>\n",
       "        <th>PET</th>\n",
       "        <th>SALEPRICE</th>\n",
       "        <th>PROFIT</th>\n",
       "        <th>SALEDATE</th>\n",
       "        <th>QUANTITY</th>\n",
       "    </tr>\n",
       "    <tr>\n",
       "        <td>1</td>\n",
       "        <td>Cat</td>\n",
       "        <td>450.09</td>\n",
       "        <td>100.47</td>\n",
       "        <td>2018-05-29</td>\n",
       "        <td>9</td>\n",
       "    </tr>\n",
       "    <tr>\n",
       "        <td>2</td>\n",
       "        <td>Dog</td>\n",
       "        <td>666.66</td>\n",
       "        <td>150.76</td>\n",
       "        <td>2018-06-01</td>\n",
       "        <td>40</td>\n",
       "    </tr>\n",
       "    <tr>\n",
       "        <td>3</td>\n",
       "        <td>Parrot</td>\n",
       "        <td>50</td>\n",
       "        <td>8.9</td>\n",
       "        <td>2018-06-04</td>\n",
       "        <td>9</td>\n",
       "    </tr>\n",
       "    <tr>\n",
       "        <td>4</td>\n",
       "        <td>Hamster</td>\n",
       "        <td>60.6</td>\n",
       "        <td>12</td>\n",
       "        <td>2018-06-11</td>\n",
       "        <td>2</td>\n",
       "    </tr>\n",
       "    <tr>\n",
       "        <td>5</td>\n",
       "        <td>Goldfish</td>\n",
       "        <td>48.48</td>\n",
       "        <td>3.5</td>\n",
       "        <td>2018-06-14</td>\n",
       "        <td>9</td>\n",
       "    </tr>\n",
       "</table>"
      ],
      "text/plain": [
       "[(1, 'Cat', 450.09, 100.47, '2018-05-29', 9),\n",
       " (2, 'Dog', 666.66, 150.76, '2018-06-01', 40),\n",
       " (3, 'Parrot', 50, 8.9, '2018-06-04', 9),\n",
       " (4, 'Hamster', 60.6, 12, '2018-06-11', 2),\n",
       " (5, 'Goldfish', 48.48, 3.5, '2018-06-14', 9)]"
      ]
     },
     "execution_count": 36,
     "metadata": {},
     "output_type": "execute_result"
    }
   ],
   "source": [
    "%%sql\n",
    "UPDATE PETSALE SET QUANTITY = 9 WHERE ID = 1;\n",
    "UPDATE PETSALE SET QUANTITY = 40 WHERE ID = 2;\n",
    "UPDATE PETSALE SET QUANTITY = 9 WHERE ID = 3;\n",
    "UPDATE PETSALE SET QUANTITY = 2 WHERE ID = 4;\n",
    "UPDATE PETSALE SET QUANTITY = 9 WHERE ID = 5;\n",
    "\n",
    "select * from PETSALE"
   ]
  },
  {
   "cell_type": "markdown",
   "metadata": {},
   "source": [
    "Delete the PROFIT column from the PETSALE table and show the altered table. Copy the code below and paste it to the textbox of the Run SQL page. Click Run all."
   ]
  },
  {
   "cell_type": "code",
   "execution_count": 37,
   "metadata": {},
   "outputs": [
    {
     "name": "stdout",
     "output_type": "stream",
     "text": [
      " * sqlite:///pet_db\n",
      "(sqlite3.OperationalError) near \"drop\": syntax error\n",
      "[SQL: Alter table PETSALE\n",
      "drop column profit;]\n",
      "(Background on this error at: http://sqlalche.me/e/e3q8)\n"
     ]
    }
   ],
   "source": [
    "%%sql\n",
    "Alter table PETSALE\n",
    "drop column profit;"
   ]
  },
  {
   "cell_type": "code",
   "execution_count": 38,
   "metadata": {},
   "outputs": [
    {
     "name": "stdout",
     "output_type": "stream",
     "text": [
      " * sqlite:///pet_db\n",
      "Done.\n"
     ]
    },
    {
     "data": {
      "text/html": [
       "<table>\n",
       "    <tr>\n",
       "        <th>ID</th>\n",
       "        <th>PET</th>\n",
       "        <th>SALEPRICE</th>\n",
       "        <th>PROFIT</th>\n",
       "        <th>SALEDATE</th>\n",
       "        <th>QUANTITY</th>\n",
       "    </tr>\n",
       "    <tr>\n",
       "        <td>1</td>\n",
       "        <td>Cat</td>\n",
       "        <td>450.09</td>\n",
       "        <td>100.47</td>\n",
       "        <td>2018-05-29</td>\n",
       "        <td>9</td>\n",
       "    </tr>\n",
       "    <tr>\n",
       "        <td>2</td>\n",
       "        <td>Dog</td>\n",
       "        <td>666.66</td>\n",
       "        <td>150.76</td>\n",
       "        <td>2018-06-01</td>\n",
       "        <td>40</td>\n",
       "    </tr>\n",
       "    <tr>\n",
       "        <td>3</td>\n",
       "        <td>Parrot</td>\n",
       "        <td>50</td>\n",
       "        <td>8.9</td>\n",
       "        <td>2018-06-04</td>\n",
       "        <td>9</td>\n",
       "    </tr>\n",
       "    <tr>\n",
       "        <td>4</td>\n",
       "        <td>Hamster</td>\n",
       "        <td>60.6</td>\n",
       "        <td>12</td>\n",
       "        <td>2018-06-11</td>\n",
       "        <td>2</td>\n",
       "    </tr>\n",
       "    <tr>\n",
       "        <td>5</td>\n",
       "        <td>Goldfish</td>\n",
       "        <td>48.48</td>\n",
       "        <td>3.5</td>\n",
       "        <td>2018-06-14</td>\n",
       "        <td>9</td>\n",
       "    </tr>\n",
       "</table>"
      ],
      "text/plain": [
       "[(1, 'Cat', 450.09, 100.47, '2018-05-29', 9),\n",
       " (2, 'Dog', 666.66, 150.76, '2018-06-01', 40),\n",
       " (3, 'Parrot', 50, 8.9, '2018-06-04', 9),\n",
       " (4, 'Hamster', 60.6, 12, '2018-06-11', 2),\n",
       " (5, 'Goldfish', 48.48, 3.5, '2018-06-14', 9)]"
      ]
     },
     "execution_count": 38,
     "metadata": {},
     "output_type": "execute_result"
    }
   ],
   "source": [
    "%%sql\n",
    "select * from PETSALE;"
   ]
  },
  {
   "cell_type": "code",
   "execution_count": 40,
   "metadata": {},
   "outputs": [
    {
     "name": "stdout",
     "output_type": "stream",
     "text": [
      " * sqlite:///pet_db\n",
      "Done.\n"
     ]
    },
    {
     "data": {
      "text/plain": [
       "[]"
      ]
     },
     "execution_count": 40,
     "metadata": {},
     "output_type": "execute_result"
    }
   ],
   "source": [
    "%%sql\n",
    "drop table petsale;"
   ]
  }
 ],
 "metadata": {
  "kernelspec": {
   "display_name": "Python 3",
   "language": "python",
   "name": "python3"
  },
  "language_info": {
   "codemirror_mode": {
    "name": "ipython",
    "version": 3
   },
   "file_extension": ".py",
   "mimetype": "text/x-python",
   "name": "python",
   "nbconvert_exporter": "python",
   "pygments_lexer": "ipython3",
   "version": "3.7.6"
  }
 },
 "nbformat": 4,
 "nbformat_minor": 2
}
