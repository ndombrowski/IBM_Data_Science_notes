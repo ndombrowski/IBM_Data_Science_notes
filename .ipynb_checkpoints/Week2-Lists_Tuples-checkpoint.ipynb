{
  "cells": [
    {
      "cell_type": "markdown",
      "metadata": {},
      "source": [
        "# Python: Lists and Tuples\n",
        "\n",
        "= Compound data types\n",
        "\n",
        "## Tuples\n",
        "\n",
        "- An ordered sequence \n",
        "- Comma separated elements within parentheses"
      ]
    },
    {
      "cell_type": "code",
      "metadata": {},
      "source": [
        "Ratings = (10,9,6,4,10,8,8,6)\n",
        "Ratings"
      ],
      "execution_count": null,
      "outputs": []
    },
    {
      "cell_type": "markdown",
      "metadata": {},
      "source": [
        "- Strings, integers and floats can all be contained in a tuple"
      ]
    },
    {
      "cell_type": "code",
      "metadata": {},
      "source": [
        "tuple1 = ('disco', 10, 1.2)\n",
        "tuple1"
      ],
      "execution_count": null,
      "outputs": []
    },
    {
      "cell_type": "markdown",
      "metadata": {},
      "source": [
        "- We can access each element of a tuple via an **index**\n",
        "\n",
        "### Indexing tuples"
      ]
    },
    {
      "cell_type": "code",
      "metadata": {},
      "source": [
        "#access the first element\n",
        "tuple1[0]\n",
        "\n",
        "#access the third element\n",
        "tuple1[2]\n",
        "\n",
        "#access the last element\n",
        "tuple1[-1]"
      ],
      "execution_count": null,
      "outputs": []
    },
    {
      "cell_type": "markdown",
      "metadata": {},
      "source": [
        "### Adding tuples\n",
        "\n",
        "- We can combine tuples, by adding them "
      ]
    },
    {
      "cell_type": "code",
      "metadata": {},
      "source": [
        "tuple2 =  tuple1 + (\"hard rock\", 10)\n",
        "tuple2"
      ],
      "execution_count": null,
      "outputs": []
    },
    {
      "cell_type": "markdown",
      "metadata": {},
      "source": [
        "### Slice tuples\n",
        "\n",
        "- If we want multiple elements from a tuple, we can slice tuples\n"
      ]
    },
    {
      "cell_type": "code",
      "metadata": {},
      "source": [
        "#get the first 3 elements, the last index is on larger than the index we want\n",
        "tuple2[0:3]"
      ],
      "execution_count": null,
      "outputs": []
    },
    {
      "cell_type": "markdown",
      "metadata": {},
      "source": [
        "### Get the length of tuples\n",
        "\n",
        "- We get the length of a tuple with the **len()** command"
      ]
    },
    {
      "cell_type": "code",
      "metadata": {},
      "source": [
        "len(tuple2)"
      ],
      "execution_count": null,
      "outputs": []
    },
    {
      "cell_type": "markdown",
      "metadata": {},
      "source": [
        "### Tuples are immutable\n",
        "\n",
        "\n",
        "- Tuples are immutable = we can not change them but we can assign a different tuple to the ratings variable. So if we want to manipulate a tuple we have to create a new tuple instead"
      ]
    },
    {
      "cell_type": "code",
      "metadata": {},
      "source": [
        "#store ratings in a new variable\n",
        "Ratings1 = Ratings\n",
        "\n",
        "#we can not use Ratings[2]=2 to change the 2nd element of a tuple\n",
        "#but we can change the contents of our variable with:\n",
        "Ratings = (1,4,2)\n",
        "\n",
        "#we can also sort a tuple and store it in a new variable\n",
        "Ratings_sorted = sorted(Ratings)\n",
        "Ratings_sorted"
      ],
      "execution_count": null,
      "outputs": []
    },
    {
      "cell_type": "markdown",
      "metadata": {},
      "source": [
        "### Nesting tuples\n",
        "\n",
        "- A tuple can be **nested** = i.e. contain other tuples"
      ]
    },
    {
      "cell_type": "code",
      "metadata": {},
      "source": [
        "NT = (1,2,(\"pop\", \"rock\"), (3,4), (\"disco\",(1,2)))\n",
        "NT\n",
        "\n",
        "#access the second element\n",
        "NT[2]\n",
        "\n",
        "#access the 2nd element inside it\n",
        "NT[2][1]"
      ],
      "execution_count": null,
      "outputs": []
    },
    {
      "cell_type": "markdown",
      "metadata": {},
      "source": [
        "## Lists\n",
        "\n",
        "- Ordered sequences\n",
        "- Represented by square brackets\n",
        "- Lists are mutable\n",
        "- Otherwise shares similar respects than tuples (i.e. using an index, slicing, nesting, combining them by adding)\n"
      ]
    },
    {
      "cell_type": "code",
      "metadata": {},
      "source": [
        "L = [\"Michael Jackson\", 10.1, 1982]\n",
        "L"
      ],
      "execution_count": null,
      "outputs": []
    },
    {
      "cell_type": "markdown",
      "metadata": {},
      "source": [
        "### Extending lists\n",
        "\n",
        "- We can extend list, i.e. modify it, using the **extend()** function"
      ]
    },
    {
      "cell_type": "code",
      "metadata": {},
      "source": [
        "L = [\"Michael Jackson\", 10.1, 1982]\n",
        "L.extend([\"pop\",10])\n",
        "L"
      ],
      "execution_count": null,
      "outputs": []
    },
    {
      "cell_type": "markdown",
      "metadata": {},
      "source": [
        "### Appending lists\n",
        "\n",
        "- We can also append a list, i.e. we add only one element to a list"
      ]
    },
    {
      "cell_type": "code",
      "metadata": {},
      "source": [
        "L = [\"Michael Jackson\", 10.1, 1982]\n",
        "L.append([\"pop\",10])\n",
        "L"
      ],
      "execution_count": null,
      "outputs": []
    },
    {
      "cell_type": "markdown",
      "metadata": {},
      "source": [
        "### Extending lists\n",
        "\n",
        "- **extend()** adds two new elements to the list"
      ]
    },
    {
      "cell_type": "code",
      "metadata": {},
      "source": [
        "L = [\"Michael Jackson\", 10.1, 1982]\n",
        "L.extend([\"pop\",10])\n",
        "L"
      ],
      "execution_count": null,
      "outputs": []
    },
    {
      "cell_type": "markdown",
      "metadata": {},
      "source": [
        "### Lists are mutable\n",
        "\n",
        "- We can change elements in lists"
      ]
    },
    {
      "cell_type": "code",
      "metadata": {},
      "source": [
        "#change the first element in the list\n",
        "L = [\"Michael Jackson\", 10.1, 1982]\n",
        "L[0] = \"hard rock\"\n",
        "L"
      ],
      "execution_count": null,
      "outputs": []
    },
    {
      "cell_type": "markdown",
      "metadata": {},
      "source": [
        "### Delete elements in lists\n",
        "\n",
        "- We can delete an element in a list with the **del()** command"
      ]
    },
    {
      "cell_type": "code",
      "metadata": {},
      "source": [
        "#delete the first element in the list\n",
        "L = [\"Michael Jackson\", 10.1, 1982]\n",
        "del(L[0])\n",
        "L"
      ],
      "execution_count": null,
      "outputs": []
    },
    {
      "cell_type": "markdown",
      "metadata": {},
      "source": [
        "### Converting strings to lists\n",
        "\n",
        "- We can convert a string to a list using **split()**"
      ]
    },
    {
      "cell_type": "code",
      "metadata": {},
      "source": [
        "#normally split, splits strings by the space\n",
        "\"hard rock\".split()\n",
        "\n",
        "#we can also use a specific character, i.e. a delimiter, which we add as an argument\n",
        "\"A,B,C,D\".split(\",\")"
      ],
      "execution_count": null,
      "outputs": []
    },
    {
      "cell_type": "markdown",
      "metadata": {},
      "source": [
        "### Aliasing\n",
        "\n",
        "- **Aliasing** = Multiple names referring to the same object"
      ]
    },
    {
      "cell_type": "code",
      "metadata": {},
      "source": [
        "#make an alias\n",
        "A = [\"hard rock\", 10, 1.2]\n",
        "B = A\n",
        "\n",
        "#if we now change A, B change as well!\n",
        "A[0] = \"banana\"\n",
        "A\n",
        "B"
      ],
      "execution_count": null,
      "outputs": []
    },
    {
      "cell_type": "markdown",
      "metadata": {},
      "source": [
        "### Cloning\n",
        "\n",
        "- We can **clone** list A using the following syntax"
      ]
    },
    {
      "cell_type": "code",
      "metadata": {},
      "source": [
        "#clone a list\n",
        "A = [\"hard rock\", 10, 1.2]\n",
        "B = A[:]\n",
        "\n",
        "#if we now change A, B will not change\n",
        "A[0] = \"banana\"\n",
        "A\n",
        "B"
      ],
      "execution_count": null,
      "outputs": []
    },
    {
      "cell_type": "markdown",
      "metadata": {},
      "source": [
        "## Exercise A\n",
        "\n",
        "See Module 2_PY0101EN-2-2-Lists.ipynb\n",
        "\n",
        "\n",
        "\n",
        "# Dictionaries\n",
        "\n",
        "- Dictionaries = A type of collection in python\n",
        "- Consists of keys and values\n",
        "    - Key = analogous to the index. They are like addresses but don't have to be integers and usually are characters. The are immutable and unique\n",
        "    - Values are similar to the element in a list and contain information. The values can be immutable, mutable and duplicates.\n",
        "- Dictionaries are generated using curly brackets and the keys are the first elements. Each key is followed by a value followed by a colon. Each key/value pair is separated by a comma\n",
        "\n",
        "## Generating a dictionary"
      ]
    },
    {
      "cell_type": "code",
      "metadata": {},
      "source": [
        "dic1 = {\"key1\":1, \"key2\":\"2\", \"key3\":[3,3,3], \"key4\":(4,4,4), \"key5\":5}\n",
        "dic1"
      ],
      "execution_count": null,
      "outputs": []
    },
    {
      "cell_type": "markdown",
      "metadata": {},
      "source": [
        "- The key is used to look up the value"
      ]
    },
    {
      "cell_type": "code",
      "metadata": {},
      "source": [
        "dic1[\"key2\"]"
      ],
      "execution_count": null,
      "outputs": []
    },
    {
      "cell_type": "markdown",
      "metadata": {},
      "source": [
        "## Adding new elements to dictionaries"
      ]
    },
    {
      "cell_type": "code",
      "metadata": {},
      "source": [
        "dic1[\"key6\"]=\"hello\"\n",
        "dic1"
      ],
      "execution_count": null,
      "outputs": []
    },
    {
      "cell_type": "markdown",
      "metadata": {},
      "source": [
        "## Delete an entry in a dictionary"
      ]
    },
    {
      "cell_type": "code",
      "metadata": {},
      "source": [
        "del(dic1[\"key6\"])\n",
        "dic1"
      ],
      "execution_count": null,
      "outputs": []
    },
    {
      "cell_type": "markdown",
      "metadata": {},
      "source": [
        "## Verify if an element is in the dictionary using the in command"
      ]
    },
    {
      "cell_type": "code",
      "metadata": {},
      "source": [
        "\"key2\" in dic1\n",
        "\"key12\" in dic1"
      ],
      "execution_count": null,
      "outputs": []
    },
    {
      "cell_type": "markdown",
      "metadata": {},
      "source": [
        "## Print all the keys in a dictionary via the keys() command"
      ]
    },
    {
      "cell_type": "code",
      "metadata": {},
      "source": [
        "dic1.keys()"
      ],
      "execution_count": null,
      "outputs": []
    },
    {
      "cell_type": "markdown",
      "metadata": {},
      "source": [
        "## Print all the values in a dictionary via the values() command"
      ]
    },
    {
      "cell_type": "code",
      "metadata": {},
      "source": [
        "dic1.values()"
      ],
      "execution_count": null,
      "outputs": []
    },
    {
      "cell_type": "markdown",
      "metadata": {},
      "source": [
        "### Exercise\n",
        "\n",
        "See: Module 2_PY0101EN-2-4-Dictionaries.ipynb\n",
        "\n",
        "# Sets\n",
        "\n",
        "- A type of collection: like with lists and tuples, we can input different python types \n",
        "- Unlike lists and tuples they are unordered, this means that sets do not record element positions\n",
        "- Sets only have unique elements: there is only one of a particular element in a set\n",
        "- To define a set, we use curly brackets and place the elements of a set inside\n",
        "\n",
        "## Making a set"
      ]
    },
    {
      "cell_type": "code",
      "metadata": {},
      "source": [
        "#generate a set with duplicate items\n",
        "set1 = {\"pop\", \"rock\", \"soul\", \"hard rock\", \"rock\"}\n",
        "\n",
        "#view set: duplicate items are not present when the set is created\n",
        "set1"
      ],
      "execution_count": null,
      "outputs": []
    },
    {
      "cell_type": "markdown",
      "metadata": {},
      "source": [
        "## Converting a list to a set with the function set()\n",
        "\n",
        "- This process is called type casting"
      ]
    },
    {
      "cell_type": "code",
      "metadata": {},
      "source": [
        "#create a list\n",
        "album_list = [\"Jackson\", \"Thriller\", \"Thriller\", 1982]\n",
        "album_list\n",
        "\n",
        "#convert to a set (notice the lack of duplicated elements)\n",
        "album_set = set(album_list)\n",
        "album_set"
      ],
      "execution_count": null,
      "outputs": []
    },
    {
      "cell_type": "markdown",
      "metadata": {},
      "source": [
        "## Set Operations\n",
        "\n",
        "- Set operations can be used to change the set\n",
        "\n",
        "### Add items with the add() method"
      ]
    },
    {
      "cell_type": "code",
      "metadata": {},
      "source": [
        "#create a set\n",
        "A = {\"Thriller\", \"Back in black\", \"AC/DC\"}\n",
        "\n",
        "#add an item\n",
        "A.add(\"NSYNC\")\n",
        "A\n",
        "\n",
        "#add the same item twice (and nothing will happen)\n",
        "A.add(\"NSYNC\")\n",
        "A"
      ],
      "execution_count": null,
      "outputs": []
    },
    {
      "cell_type": "markdown",
      "metadata": {},
      "source": [
        "### Remove items from a set"
      ]
    },
    {
      "cell_type": "code",
      "metadata": {},
      "source": [
        "#remove an item\n",
        "A.remove(\"NSYNC\")\n",
        "A"
      ],
      "execution_count": null,
      "outputs": []
    },
    {
      "cell_type": "markdown",
      "metadata": {},
      "source": [
        "### Check if elements are in a set"
      ]
    },
    {
      "cell_type": "code",
      "metadata": {},
      "source": [
        "\"AC/DC\" in A\n",
        "\"Who\" in A"
      ],
      "execution_count": null,
      "outputs": []
    },
    {
      "cell_type": "markdown",
      "metadata": {},
      "source": [
        "### Mathematical operations"
      ]
    },
    {
      "cell_type": "code",
      "metadata": {},
      "source": [
        "#define two sets\n",
        "set1 = {\"Back in black\", \"AC/DC\", \"Thriller\"}\n",
        "set2 = {\"AC/DC\", \"Back in black\", \"Dark side of the moon\"}\n",
        "set3 = {\"Back in black\", \"AC/DC\"}\n",
        "\n",
        "#define the intersection with `&`\n",
        "set3 = set1 & set2\n",
        "set3\n",
        "\n",
        "#create the union of both sets, ie. all the elements found in both sets\n",
        "set1.union(set2)\n",
        "\n",
        "#check if a set is a subset of another\n",
        "set3.issubset(set1)\n",
        "\n",
        "#find all the elements that are only contained in a set using the difference method\n",
        "set1.difference(set3)\n",
        "\n",
        "# check if a set is a superset or subset of another set\n",
        "set1.issuperset(set3)\n",
        "set3.issuperset(set1)"
      ],
      "execution_count": null,
      "outputs": []
    },
    {
      "cell_type": "code",
      "metadata": {},
      "source": [
        "#define two sets with numbers\n",
        "A = [1, 2, 2, 1]\n",
        "A\n",
        "\n",
        "B = set([1, 2, 2, 1])\n",
        "B\n",
        "\n",
        "#compare the two sets\n",
        "sum(A) == sum(B)\n",
        "\n",
        "#to explain the result:\n",
        "print(\"the sum of A is:\", sum(A))\n",
        "print(\"the sum of B is:\", sum(B))"
      ],
      "execution_count": null,
      "outputs": []
    },
    {
      "cell_type": "markdown",
      "metadata": {},
      "source": [
        "## Exercise\n"
      ]
    }
  ],
  "metadata": {
    "kernelspec": {
      "name": "python3",
      "language": "python",
      "display_name": "Python 3 (ipykernel)"
    }
  },
  "nbformat": 4,
  "nbformat_minor": 4
}