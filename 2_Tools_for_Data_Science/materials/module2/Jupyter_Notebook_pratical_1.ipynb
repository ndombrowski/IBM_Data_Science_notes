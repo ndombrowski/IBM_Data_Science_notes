{
 "cells": [
  {
   "cell_type": "markdown",
   "metadata": {},
   "source": [
    "<center>\n",
    "    <img src=\"https://s3-api.us-geo.objectstorage.softlayer.net/cf-courses-data/CognitiveClass/Logos/organization_logo/organization_logo.png\" width=\"300\" alt=\"cognitiveclass.ai logo\"  />\n",
    "</center>\n"
   ]
  },
  {
   "cell_type": "markdown",
   "metadata": {},
   "source": [
    "#### Add your code below following the instructions given in the course\n"
   ]
  },
  {
   "cell_type": "markdown",
   "metadata": {},
   "source": [
    "# Basics\n",
    "\n",
    "- Jupyter notebooks have two different modes, EDIT and COMMAND.\n",
    "  - Edit: To enter the EDIT mode, press ENTER on your keyboard or click in a cell. Edit mode can be identified by green border around the cell with green left margin. When you are in the edit mode, you can type in the cells.\n",
    "  - Command: To enter the COMMAND mode press ESC or click anywhere outside the cell. You will see grey border around the cell with blue left margin. When you are in Command mode, you can edit your notebook but you can't type in the cells.\n",
    "- Run selected cell: CTRL+ENTER\n",
    "- Run cell and insert below: ALT+ENTER\n",
    "- Run cell and select below: SHIFT+ENTER\n",
    "- Insert cell above: A\n",
    "- Insert cell below: B\n",
    "- Cut selected cells: X\n",
    "- Copy selected cells: C\n",
    "- % matplotlib inline: add this to show plots"
   ]
  },
  {
   "cell_type": "code",
   "execution_count": 1,
   "metadata": {},
   "outputs": [
    {
     "data": {
      "text/plain": [
       "2"
      ]
     },
     "execution_count": 1,
     "metadata": {},
     "output_type": "execute_result"
    }
   ],
   "source": [
    "#Start by writing some basic math and execute the cell\n",
    "1+1"
   ]
  },
  {
   "cell_type": "code",
   "execution_count": 2,
   "metadata": {},
   "outputs": [
    {
     "data": {
      "text/plain": [
       "5.970588235294118"
      ]
     },
     "execution_count": 2,
     "metadata": {},
     "output_type": "execute_result"
    }
   ],
   "source": [
    "#Try some other math\n",
    "2*2\n",
    "203/34"
   ]
  },
  {
   "cell_type": "markdown",
   "metadata": {},
   "source": [
    "# More features\n",
    "\n",
    "## Using HTML\n",
    "\n",
    "In Markdown we can use als HTML, ie we can type `<a href=\"https://dataplatform.cloud.ibm.com/gallery\">IBM Cloud Gallery</a>` and get this: <a href=\"https://dataplatform.cloud.ibm.com/gallery\">IBM Cloud Gallery</a> \n",
    "\n",
    "## Using markdown formatting\n",
    "\n",
    "Ex\n",
    "\n",
    "| header1 | header2 | header3 |\n",
    "| ------ | ------ | --- |\n",
    "| row1.1 | row1.2 | row1.3 |\n",
    "| row2.1 | row2.2 | row2.3 |\n",
    "| row3.1 | row3.2 | row3.3 |"
   ]
  }
 ],
 "metadata": {
  "kernelspec": {
   "display_name": "Python [conda env:anaconda3]",
   "language": "python",
   "name": "conda-env-anaconda3-py"
  },
  "language_info": {
   "codemirror_mode": {
    "name": "ipython",
    "version": 3
   },
   "file_extension": ".py",
   "mimetype": "text/x-python",
   "name": "python",
   "nbconvert_exporter": "python",
   "pygments_lexer": "ipython3",
   "version": "3.7.6"
  }
 },
 "nbformat": 4,
 "nbformat_minor": 4
}
