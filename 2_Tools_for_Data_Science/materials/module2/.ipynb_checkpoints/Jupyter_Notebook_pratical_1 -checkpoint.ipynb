{
  "metadata": {
    "kernelspec": {
      "name": "python",
      "display_name": "Pyolite",
      "language": "python"
    },
    "language_info": {
      "codemirror_mode": {
        "name": "python",
        "version": 3
      },
      "file_extension": ".py",
      "mimetype": "text/x-python",
      "name": "python",
      "nbconvert_exporter": "python",
      "pygments_lexer": "ipython3",
      "version": "3.8"
    }
  },
  "nbformat_minor": 4,
  "nbformat": 4,
  "cells": [
    {
      "cell_type": "markdown",
      "source": "<center>\n    <img src=\"https://s3-api.us-geo.objectstorage.softlayer.net/cf-courses-data/CognitiveClass/Logos/organization_logo/organization_logo.png\" width=\"300\" alt=\"cognitiveclass.ai logo\"  />\n</center>\n",
      "metadata": {}
    },
    {
      "cell_type": "markdown",
      "source": "#### Add your code below following the instructions given in the course\n",
      "metadata": {}
    },
    {
      "cell_type": "markdown",
      "source": "# Basics\n\n- Jupyter notebooks have two different modes, EDIT and COMMAND.\n  - Edit: To enter the EDIT mode, press ENTER on your keyboard or click in a cell. Edit mode can be identified by green border around the cell with green left margin. When you are in the edit mode, you can type in the cells.\n  - Command: To enter the COMMAND mode press ESC or click anywhere outside the cell. You will see grey border around the cell with blue left margin. When you are in Command mode, you can edit your notebook but you can't type in the cells.\n- Run selected cell: CTRL+ENTER\n- Run cell and insert below: ALT+ENTER\n- Run cell and select below: SHIFT+ENTER\n- Insert cell above: A\n- Insert cell below: B\n- Cut selected cells: X\n- Copy selected cells: C\n- % matplotlib inline: add this to show plots",
      "metadata": {}
    },
    {
      "cell_type": "code",
      "source": "#Start by writing some basic math and execute the cell\n1+1",
      "metadata": {
        "trusted": true
      },
      "execution_count": 1,
      "outputs": [
        {
          "execution_count": 1,
          "output_type": "execute_result",
          "data": {
            "text/plain": "2"
          },
          "metadata": {}
        }
      ]
    },
    {
      "cell_type": "code",
      "source": "#Try some other math\n2*2\n203/34",
      "metadata": {
        "trusted": true
      },
      "execution_count": 2,
      "outputs": [
        {
          "execution_count": 2,
          "output_type": "execute_result",
          "data": {
            "text/plain": "5.970588235294118"
          },
          "metadata": {}
        }
      ]
    },
    {
      "cell_type": "markdown",
      "source": "# More features\n\n## Using HTML\n\nIn Markdown we can use als HTML, ie we can type `<a href=\"https://dataplatform.cloud.ibm.com/gallery\">IBM Cloud Gallery</a>` and get this: <a href=\"https://dataplatform.cloud.ibm.com/gallery\">IBM Cloud Gallery</a> \n\n## Using markdown formatting\n\nEx\n\n| header1 | header2 | header3 |\n| ------ | ------ | --- |\n| row1.1 | row1.2 | row1.3 |\n| row2.1 | row2.2 | row2.3 |\n| row3.1 | row3.2 | row3.3 |",
      "metadata": {}
    }
  ]
}