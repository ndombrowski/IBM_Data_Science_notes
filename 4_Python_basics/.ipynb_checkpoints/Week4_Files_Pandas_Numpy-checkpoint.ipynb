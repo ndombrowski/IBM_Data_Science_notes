{
  "cells": [
    {
      "cell_type": "markdown",
      "metadata": {},
      "source": [
        "# Working with data in python\n",
        "\n",
        "## The open function\n",
        "\n",
        "### Reading Files with Open"
      ]
    },
    {
      "cell_type": "code",
      "metadata": {
        "results": "hide"
      },
      "source": [
        "#| echo: false\n",
        "#| warning: false\n",
        "\n",
        "##Download example data.\n",
        "\n",
        "#import urllib.request\n",
        "#url = 'https://cf-courses-data.s3.us.cloud-object-storage.appdomain.cloud/IBMDeveloperSkillsNetwork-PY0101EN-SkillsNetwork/labs/Module%204/data/Example1.txt.txt'\n",
        "#filename = 'Example1.txt.txt'\n",
        "#urllib.request.urlretrieve(url, filename)\n",
        "\n",
        "## Download Example file\n",
        "# !wget -O data/Example1.txt.txt https://cf-courses-data.s3.us.cloud-object-storage.appdomain.cloud/IBMDeveloperSkillsNetwork-PY0101EN-SkillsNetwork/labs/Module%204/data/Example1.txt.txt"
      ],
      "execution_count": null,
      "outputs": []
    },
    {
      "cell_type": "markdown",
      "metadata": {},
      "source": [
        "One way to read or write a file in Python is to use the built-in open function. The open function provides a File object that contains the methods and attributes you need in order to read, save, and manipulate the file. In this notebook, we will only cover .txt files. \n",
        "\n",
        "- The first argument is the filepath and the filename we want to open\n",
        "- The second parameter is the mode:\n",
        "    - r: open a file for reading\n",
        "    - w: open a file for writing\n",
        "    - a: open a file for appending\n",
        "    - r+ : Reading and writing. Cannot truncate the file.\n",
        "    - w+ : Writing and reading. Truncates the file.\n",
        "    - a+ : Appending and Reading. Creates a new file, if none exists.\n",
        "    \n",
        "- We store this in a file object, i.e. File1 and we can use the file object to obtain information about the file\n",
        "- You should always close the file object using the method close.\n",
        "\n",
        "Python file method close() closes the opened file. A closed file cannot be read or written any more. Any operation, which requires that the file be opened will raise a ValueError after the file has been closed. Calling close() more than once is allowed."
      ]
    },
    {
      "cell_type": "code",
      "metadata": {},
      "source": [
        "#open a file\n",
        "File1 = open(\"data/Example1.txt\", \"r\")\n",
        "\n",
        "#get the name of the file\n",
        "print(File1.name)\n",
        "\n",
        "#see what mode the object is in\n",
        "print(File1.mode)\n",
        "\n",
        "#get the file contents\n",
        "print(File1.read())\n",
        "\n",
        "#get they type of the file\n",
        "type(File1.read())\n",
        "\n",
        "#close the file\n",
        "File1.close()"
      ],
      "execution_count": null,
      "outputs": []
    },
    {
      "cell_type": "markdown",
      "metadata": {},
      "source": [
        "Since using .close() can be tedious, we can use an alternative, the with statement. This is a better alternative, since the with statement will automatically close the file."
      ]
    },
    {
      "cell_type": "code",
      "metadata": {},
      "source": [
        "with open(\"data/Example1.txt\", \"r\") as File1:\n",
        "    #code will be performed in the indented code block\n",
        "    #The method \"read\" stores the values of the file in the variable \"file_stuff\" as a string\n",
        "    file_stuff = File1.read()\n",
        "    print(file_stuff)\n",
        "    print(File1.mode)"
      ],
      "execution_count": null,
      "outputs": []
    },
    {
      "cell_type": "markdown",
      "metadata": {},
      "source": [
        "Notice, that we didn’t have to write “file.close()”. That will automatically be called.\n",
        "\n",
        "We can output every line as an element in a list using the method \"readlines.\""
      ]
    },
    {
      "cell_type": "code",
      "metadata": {},
      "source": [
        "with open(\"data/Example1.txt\", \"r\") as File1:\n",
        "    file_stuff = File1.readlines()\n",
        "    print(file_stuff)"
      ],
      "execution_count": null,
      "outputs": []
    },
    {
      "cell_type": "markdown",
      "metadata": {},
      "source": [
        "We don’t have to read the entire file, for example, we can read the first 4 characters by entering three as a parameter to the method .read():"
      ]
    },
    {
      "cell_type": "code",
      "metadata": {},
      "source": [
        "# Read first four characters\n",
        "with open(\"data/Example1.txt\", \"r\") as file1:\n",
        "    print(file1.read(4))"
      ],
      "execution_count": null,
      "outputs": []
    },
    {
      "cell_type": "markdown",
      "metadata": {},
      "source": [
        "Use a loop to print out each line individually"
      ]
    },
    {
      "cell_type": "code",
      "metadata": {},
      "source": [
        "with open(\"data/Example1.txt\", \"r\") as File1:\n",
        "    for i in File1:\n",
        "        print(i)"
      ],
      "execution_count": null,
      "outputs": []
    },
    {
      "cell_type": "markdown",
      "metadata": {},
      "source": [
        "We can also read all lines and save them as a list"
      ]
    },
    {
      "cell_type": "code",
      "metadata": {},
      "source": [
        "# Read all lines and save as a list\n",
        "with open(\"data/Example1.txt\", \"r\") as file1:\n",
        "    FileasList = file1.readlines()\n",
        "    \n",
        "#print the first line    \n",
        "FileasList[0]"
      ],
      "execution_count": null,
      "outputs": []
    },
    {
      "cell_type": "markdown",
      "metadata": {},
      "source": [
        "### Writting Files with Open\n",
        "\n",
        "Create a new, empty example as follows:\n",
        "\n",
        "**Beware**: If we have a file with that filename in our directory, it will be overwritten!"
      ]
    },
    {
      "cell_type": "code",
      "metadata": {},
      "source": [
        "#create example.txt in the specified dir\n",
        "with open(\"data/Example2.txt\", \"w\") as File1:\n",
        "    #add something into our file\n",
        "    File1.write(\"This is line A\\n\")\n",
        "    File1.write(\"This is line B\\n\")"
      ],
      "execution_count": null,
      "outputs": []
    },
    {
      "cell_type": "markdown",
      "metadata": {},
      "source": [
        "We can also have a list and write this to a file"
      ]
    },
    {
      "cell_type": "code",
      "metadata": {},
      "source": [
        "Lines = [\"This is line A\\n\", \"This is line B\\n\", \"This is line C\\n\"]\n",
        "\n",
        "with open(\"data/Example2.txt\", \"w\") as File1:\n",
        "    for i in Lines:\n",
        "        File1.write(i)"
      ],
      "execution_count": null,
      "outputs": []
    },
    {
      "cell_type": "markdown",
      "metadata": {},
      "source": [
        "### Appending lines to a new file\n",
        "\n",
        "Append will not create a new file but append lines to an existing file."
      ]
    },
    {
      "cell_type": "code",
      "metadata": {},
      "source": [
        "with open(\"data/Example2.txt\", \"a\") as File1:\n",
        "    File1.write(\"This is line D\\n\")"
      ],
      "execution_count": null,
      "outputs": []
    },
    {
      "cell_type": "markdown",
      "metadata": {},
      "source": [
        "### Copy one file to a new file"
      ]
    },
    {
      "cell_type": "code",
      "metadata": {},
      "source": [
        "with open(\"data/Example1.txt\", \"r\") as readfile:\n",
        "    with open(\"data/Example3.txt\", \"w\") as writefile:\n",
        "        for line in readfile:\n",
        "            writefile.write(line)"
      ],
      "execution_count": null,
      "outputs": []
    },
    {
      "cell_type": "markdown",
      "metadata": {},
      "source": [
        "### Other modes\n"
      ]
    },
    {
      "cell_type": "code",
      "metadata": {},
      "source": [
        "with open('data/Example2.txt', 'a+') as testwritefile:\n",
        "    testwritefile.write(\"This is line E\\n\")\n",
        "    print(testwritefile.read())"
      ],
      "execution_count": null,
      "outputs": []
    },
    {
      "cell_type": "markdown",
      "metadata": {},
      "source": [
        "Opening the file in w is akin to opening the .txt file, moving your cursor to the beginning of the text file, writing new text and deleting everything that follows. Whereas opening the file in a is similiar to opening the .txt file, moving your cursor to the very end and then adding the new pieces of text. It is often very useful to know where the 'cursor' is in a file and be able to control it. The following methods allow us to do precisely this -\n",
        "\n",
        "- .tell() - returns the current position in bytes\n",
        "- .seek(offset,from) - changes the position by 'offset' bytes with respect to 'from'. From can take the value of 0,1,2 corresponding to beginning, relative to current position and end\n"
      ]
    },
    {
      "cell_type": "code",
      "metadata": {},
      "source": [
        "with open('data/Example2.txt', 'a+') as testwritefile:\n",
        "    print(\"Initial Location: {}\".format(testwritefile.tell()))\n",
        "    data = testwritefile.read()\n",
        "    if (not data):  #empty strings return false in python\n",
        "            print('Read nothing') \n",
        "    else: \n",
        "            print(testwritefile.read())\n",
        "    \n",
        "    testwritefile.seek(0,0) # move 0 bytes from beginning.\n",
        "    \n",
        "    print(\"\\nNew Location : {}\".format(testwritefile.tell()))\n",
        "    data = testwritefile.read()\n",
        "    if (not data): \n",
        "            print('Read nothing') \n",
        "    else: \n",
        "            print(data)\n",
        "    \n",
        "    print(\"Location after read: {}\".format(testwritefile.tell()) )"
      ],
      "execution_count": null,
      "outputs": []
    },
    {
      "cell_type": "markdown",
      "metadata": {},
      "source": [
        "Finally, a note on the difference between w+ and r+. Both of these modes allow access to read and write methods, however, opening a file in w+ overwrites it and deletes all pre-existing data.\n",
        "**To work with a file on existing data, use r+ and a+**. While using r+, it can be useful to add a .truncate() method at the end of your data. This will reduce the file to your data and delete everything that follows."
      ]
    },
    {
      "cell_type": "code",
      "metadata": {},
      "source": [
        "with open('data/Example2.txt', 'r+') as testwritefile:\n",
        "    data = testwritefile.readlines()\n",
        "    testwritefile.seek(0,0) #write at beginning of file\n",
        "   \n",
        "    testwritefile.write(\"Line 1\" + \"\\n\")\n",
        "    testwritefile.write(\"Line 2\" + \"\\n\")\n",
        "    testwritefile.write(\"Line 3\" + \"\\n\")\n",
        "    testwritefile.write(\"finished\\n\")\n",
        "    #Uncomment the line below\n",
        "    testwritefile.truncate()\n",
        "    testwritefile.seek(0,0)\n",
        "    print(testwritefile.read())"
      ],
      "execution_count": null,
      "outputs": []
    },
    {
      "cell_type": "markdown",
      "metadata": {},
      "source": [
        "After reading files, we can also write data into files and save them in different file formats like .txt, .csv, .xls (for excel files) etc. You will come across these in further examples\n",
        "\n",
        "#### Exercise\n",
        "\n",
        "Your local university's Raptors fan club maintains a register of its active members on a .txt document. Every month they update the file by removing the members who are not active. You have been tasked with automating this with your Python skills.\n",
        "\n",
        "Given the file currentMem, Remove each member with a 'no' in their Active column. Keep track of each of the removed members and append them to the exMem file. Make sure that the format of the original files in preserved. (Hint: Do this by reading/writing whole lines and ensuring the header remains )\n",
        "\n",
        "Run the code block below prior to starting the exercise. The skeleton code has been provided for you. Edit only the cleanFiles function."
      ]
    },
    {
      "cell_type": "code",
      "metadata": {},
      "source": [
        "#Run this prior to starting the exercise\n",
        "from random import randint as rnd\n",
        "\n",
        "memReg = 'data/members.txt'\n",
        "exReg = 'data/inactive.txt'\n",
        "fee =('yes','no')\n",
        "\n",
        "def genFiles(current,old):\n",
        "    with open(current,'w+') as writefile: \n",
        "        writefile.write('Membership No  Date Joined  Active  \\n')\n",
        "        data = \"{:^13}  {:<11}  {:<6}\\n\"\n",
        "\n",
        "        for rowno in range(20):\n",
        "            date = str(rnd(2015,2020))+ '-' + str(rnd(1,12))+'-'+str(rnd(1,25))\n",
        "            writefile.write(data.format(rnd(10000,99999),date,fee[rnd(0,1)]))\n",
        "\n",
        "\n",
        "    with open(old,'w+') as writefile: \n",
        "        writefile.write('Membership No  Date Joined  Active  \\n')\n",
        "        data = \"{:^13}  {:<11}  {:<6}\\n\"\n",
        "        for rowno in range(3):\n",
        "            date = str(rnd(2015,2020))+ '-' + str(rnd(1,12))+'-'+str(rnd(1,25))\n",
        "            writefile.write(data.format(rnd(10000,99999),date,fee[1]))\n",
        "\n",
        "\n",
        "genFiles(memReg,exReg)"
      ],
      "execution_count": null,
      "outputs": []
    },
    {
      "cell_type": "code",
      "metadata": {},
      "source": [
        "def cleanFiles(currentMem, exMem):\n",
        "    with open(currentMem, \"r+\") as writeFile:\n",
        "        with open(exMem, \"a+\") as appendFile:\n",
        "            #get the data\n",
        "            writeFile.seek(0)\n",
        "            members = writeFile.readlines()\n",
        "            #remove header\n",
        "            header = members[0]\n",
        "            members.pop(0)\n",
        "            inactive=[]\n",
        "            for member in members:\n",
        "                if 'no' in member:\n",
        "                    inactive.append(member)\n",
        "            '''\n",
        "            inactive = [member for member in members if ('no' in member)]\n",
        "            The above is the same as \n",
        "            \n",
        "            for member in members:\n",
        "            if 'no' in member:\n",
        "                inactive.append(member)\n",
        "            '''\n",
        "            #go to the beginning of the write file\n",
        "            writeFile.seek(0)\n",
        "            writeFile.write(header)\n",
        "            for member in members:\n",
        "                if (member in inactive):\n",
        "                    appendFile.write(member)\n",
        "                else:\n",
        "                    writeFile.write(member)\n",
        "            writeFile.truncate()"
      ],
      "execution_count": null,
      "outputs": []
    },
    {
      "cell_type": "markdown",
      "metadata": {},
      "source": [
        "Test code:"
      ]
    },
    {
      "cell_type": "code",
      "metadata": {},
      "source": [
        "memReg = 'data/members.txt'\n",
        "exReg = 'data/inactive.txt'\n",
        "cleanFiles(memReg,exReg)\n",
        "\n",
        "# code to help you see the files\n",
        "headers = \"Membership No  Date Joined  Active  \\n\"\n",
        "\n",
        "with open(memReg,'r') as readFile:\n",
        "    print(\"Active Members: \\n\\n\")\n",
        "    print(readFile.read())\n",
        "    \n",
        "with open(exReg,'r') as readFile:\n",
        "    print(\"Inactive Members: \\n\\n\")\n",
        "    print(readFile.read())\n"
      ],
      "execution_count": null,
      "outputs": []
    },
    {
      "cell_type": "markdown",
      "metadata": {},
      "source": [
        "Automated test code:"
      ]
    },
    {
      "cell_type": "code",
      "metadata": {},
      "source": [
        "def testMsg(passed):\n",
        "    if passed:\n",
        "       return 'Test Passed'\n",
        "    else :\n",
        "       return 'Test Failed'\n",
        "\n",
        "testWrite = \"data/testWrite.txt\"\n",
        "testAppend = \"data/testAppend.txt\" \n",
        "passed = True\n",
        "\n",
        "genFiles(testWrite,testAppend)\n",
        "\n",
        "with open(testWrite,'r') as file:\n",
        "    ogWrite = file.readlines()\n",
        "\n",
        "with open(testAppend,'r') as file:\n",
        "    ogAppend = file.readlines()\n",
        "\n",
        "try:\n",
        "    cleanFiles(testWrite,testAppend)\n",
        "except:\n",
        "    print('Error')\n",
        "\n",
        "with open(testWrite,'r') as file:\n",
        "    clWrite = file.readlines()\n",
        "\n",
        "with open(testAppend,'r') as file:\n",
        "    clAppend = file.readlines()\n",
        "        \n",
        "# checking if total no of rows is same, including headers\n",
        "\n",
        "if (len(ogWrite) + len(ogAppend) != len(clWrite) + len(clAppend)):\n",
        "    print(\"The number of rows do not add up. Make sure your final files have the same header and format.\")\n",
        "    passed = False\n",
        "    \n",
        "for line in clWrite:\n",
        "    if  'no' in line:\n",
        "        passed = False\n",
        "        print(\"Inactive members in file\")\n",
        "        break\n",
        "    else:\n",
        "        if line not in ogWrite:\n",
        "            print(\"Data in file does not match original file\")\n",
        "            passed = False\n",
        "print (\"{}\".format(testMsg(passed)))"
      ],
      "execution_count": null,
      "outputs": []
    },
    {
      "cell_type": "markdown",
      "metadata": {},
      "source": [
        "## Pandas\n",
        "\n",
        "Pandas is a popular library for data analysis built on top of the Python programming language. Pandas generally provide two data structures for manipulating data, They are:\n",
        "\n",
        "- DataFrame: a two-dimensional data structure, i.e., data is aligned in a tabular fashion in rows and columns.\n",
        "- Series: represents a one-dimensional array of indexed data. It has two main components :\n",
        "    - An array of actual data.\n",
        "    - An associated array of indexes or data labels.\n",
        "\n",
        "We input a library, a set of pre-written functions with the import command followed by the name of the library. Since always writing the library name, we can shorten it with the as statement. Pd is the standard abbreviation often used for pandas."
      ]
    },
    {
      "cell_type": "code",
      "metadata": {},
      "source": [
        "import pandas as pd"
      ],
      "execution_count": null,
      "outputs": []
    },
    {
      "cell_type": "markdown",
      "metadata": {},
      "source": [
        "This gives us access to a number of pre-build classes and functions. \n",
        "\n",
        "### Loading data with pandas\n",
        "\n",
        "We import a table with and store it in a dataframe. A dataframe is comprised of rows and columns. "
      ]
    },
    {
      "cell_type": "code",
      "metadata": {},
      "source": [
        "#read in a dataframe\n",
        "df = pd.read_csv(\"data/file1.csv\")\n",
        "\n",
        "#examine the first 5 rows of a dataframe\n",
        "df.head()"
      ],
      "execution_count": null,
      "outputs": []
    },
    {
      "cell_type": "markdown",
      "metadata": {},
      "source": [
        "We also can create a dataframe out of a dictionary. The keys correspond to the table headers, the values correspond to the rows."
      ]
    },
    {
      "cell_type": "code",
      "metadata": {},
      "source": [
        "#Define a dictionary 'x'\n",
        "x = {'Name': ['Rose','John', 'Jane', 'Mary'], \n",
        "        'ID': [1, 2, 3, 4], \n",
        "        'Department': ['Architect Group', 'Software Group', 'Design Team', 'Infrastructure'], \n",
        "        'Salary':[100000, 80000, 50000, 60000]}\n",
        "\n",
        "#casting the dictionary to a DataFrame\n",
        "df = pd.DataFrame(x)\n",
        "\n",
        "#display the result df\n",
        "df"
      ],
      "execution_count": null,
      "outputs": []
    },
    {
      "cell_type": "markdown",
      "metadata": {},
      "source": [
        "We can create a new df consisting of one column."
      ]
    },
    {
      "cell_type": "code",
      "metadata": {},
      "source": [
        "x = df[[\"ID\"]]\n",
        "x"
      ],
      "execution_count": null,
      "outputs": []
    },
    {
      "cell_type": "markdown",
      "metadata": {},
      "source": [
        "Let's use the <code>type()</code> function and check the type of the variable."
      ]
    },
    {
      "cell_type": "code",
      "metadata": {},
      "source": [
        "#check the type of x\n",
        "type(x)"
      ],
      "execution_count": null,
      "outputs": []
    },
    {
      "cell_type": "markdown",
      "metadata": {},
      "source": [
        "We can also do this for multiple columns:"
      ]
    },
    {
      "cell_type": "code",
      "metadata": {},
      "source": [
        "z = df[['Department','Salary','ID']]\n",
        "z"
      ],
      "execution_count": null,
      "outputs": []
    },
    {
      "cell_type": "markdown",
      "metadata": {},
      "source": [
        "To view the column as a series, we just use one bracket."
      ]
    },
    {
      "cell_type": "code",
      "metadata": {},
      "source": [
        "x = df[\"Name\"]\n",
        "x"
      ],
      "execution_count": null,
      "outputs": []
    },
    {
      "cell_type": "code",
      "metadata": {},
      "source": [
        "#check the type of x\n",
        "type(x)"
      ],
      "execution_count": null,
      "outputs": []
    },
    {
      "cell_type": "markdown",
      "metadata": {},
      "source": [
        "### loc() and iloc() functions\n",
        "\n",
        "loc() is a label-based data selecting method which means that we have to pass the name of the row or column that we want to select. This method includes the last element of the range passed in it.\n",
        "\n",
        "Simple syntax for your understanding:\n",
        "\n",
        "`loc[row_label, column_label]`\n",
        "\n",
        "iloc() is an indexed-based selecting method which means that we have to pass integer index in the method to select a specific row/column. This method does not include the last element of the range passed in it.\n",
        "\n",
        "Simple syntax for your understanding:\n",
        "\n",
        "`iloc[row_index, column_index]`\n"
      ]
    },
    {
      "cell_type": "code",
      "metadata": {},
      "source": [
        "# Access the value on the first row and the first column\n",
        "df.iloc[0, 0]"
      ],
      "execution_count": null,
      "outputs": []
    },
    {
      "cell_type": "code",
      "metadata": {},
      "source": [
        "# Access the value on the first row and the third column\n",
        "df.iloc[0,2]"
      ],
      "execution_count": null,
      "outputs": []
    },
    {
      "cell_type": "code",
      "metadata": {},
      "source": [
        "# Access the column using the name\n",
        "df.loc[0, 'Salary']"
      ],
      "execution_count": null,
      "outputs": []
    },
    {
      "cell_type": "markdown",
      "metadata": {},
      "source": [
        "Let us create a new dataframe called 'df1' and assign 'df' to it. Now, let us set the \"Name\" column as an index column using the method set_index()."
      ]
    },
    {
      "cell_type": "code",
      "metadata": {},
      "source": [
        "df1=df\n",
        "df1=df1.set_index(\"Name\")\n",
        "\n",
        "#To display the first 5 rows of new dataframe\n",
        "df1.head()"
      ],
      "execution_count": null,
      "outputs": []
    },
    {
      "cell_type": "code",
      "metadata": {},
      "source": [
        "#Now, let us access the column using the name\n",
        "df1.loc['Jane', 'Salary']"
      ],
      "execution_count": null,
      "outputs": []
    },
    {
      "cell_type": "markdown",
      "metadata": {},
      "source": [
        "### Slicing\n",
        "\n",
        "Slicing uses the [] operator to select a set of rows and/or columns from a DataFrame.\n",
        "\n",
        "To slice out a set of rows, you use this syntax: data[start:stop],\n",
        "\n",
        "here the start represents the index from where to consider, and stop represents the index one step BEYOND the row you want to select. You can perform slicing using both the index and the name of the column.\n",
        "\n",
        "**NOTE: When slicing in pandas, the start bound is included in the output.**\n",
        "\n",
        "So if you want to select rows 0, 1, and 2 your code would look like this: df.iloc[0:3].\n",
        "\n",
        "It means you are telling Python to start at index 0 and select rows 0, 1, 2 up to but not including 3.\n",
        "\n",
        "**NOTE: Labels must be found in the DataFrame or you will get a KeyError.**\n",
        "\n",
        "Indexing by labels(i.e. using loc()) differs from indexing by integers (i.e. using iloc()). With loc(), both the start bound and the stop bound are inclusive. When using loc(), integers can be used, but the integers refer to the index label and not the position.\n",
        "\n",
        "For example, using loc() and select 1:4 will get a different result than using iloc() to select rows 1:4."
      ]
    },
    {
      "cell_type": "code",
      "metadata": {},
      "source": [
        "# let us do the slicing using old dataframe df\n",
        "df.iloc[0:2, 0:3]"
      ],
      "execution_count": null,
      "outputs": []
    },
    {
      "cell_type": "code",
      "metadata": {},
      "source": [
        "#let us do the slicing using loc() function on old dataframe df where index column is having labels as 0,1,2\n",
        "df.loc[0:2,'ID':'Department']"
      ],
      "execution_count": null,
      "outputs": []
    },
    {
      "cell_type": "markdown",
      "metadata": {},
      "source": [
        "### Working with and Saving Data\n",
        "\n",
        "#### Make a list of unique elements"
      ]
    },
    {
      "cell_type": "code",
      "metadata": {},
      "source": [
        "# Read data from CSV file\n",
        "csv_path = 'https://cf-courses-data.s3.us.cloud-object-storage.appdomain.cloud/IBMDeveloperSkillsNetwork-PY0101EN-SkillsNetwork/labs/Module%204/data/TopSellingAlbums.csv'\n",
        "df = pd.read_csv(csv_path)\n",
        "df.head()"
      ],
      "execution_count": null,
      "outputs": []
    },
    {
      "cell_type": "code",
      "metadata": {},
      "source": [
        "# Access to the column Released\n",
        "x = df[['Released']]\n",
        "x"
      ],
      "execution_count": null,
      "outputs": []
    },
    {
      "cell_type": "code",
      "metadata": {},
      "source": [
        "#apply the unique method to remove duplicated years\n",
        "df['Released'].unique()"
      ],
      "execution_count": null,
      "outputs": []
    },
    {
      "cell_type": "markdown",
      "metadata": {},
      "source": [
        "### Selecting rows by conditions\n",
        "\n",
        "Lets find all the albums released after 1980"
      ]
    },
    {
      "cell_type": "code",
      "metadata": {},
      "source": [
        "#find albums after 1980\n",
        "#the results is a list of boolean values\n",
        "print(df[\"Released\"]>=1980)\n",
        "\n",
        "#select the specified columns from our dataframe\n",
        "df1 = df[df[\"Released\"]>=1980]\n",
        "df1.head()"
      ],
      "execution_count": null,
      "outputs": []
    },
    {
      "cell_type": "markdown",
      "metadata": {},
      "source": [
        "### Save dataframes"
      ]
    },
    {
      "cell_type": "code",
      "metadata": {},
      "source": [
        "#save new df to csv\n",
        "df.to_csv(\"data/new_songs.csv\")"
      ],
      "execution_count": null,
      "outputs": []
    },
    {
      "cell_type": "markdown",
      "metadata": {},
      "source": [
        "## Numpy\n",
        "\n",
        "Numpy is a package for scientific computing and has many useful functions.\n",
        "\n",
        "### Basics\n",
        "\n",
        "A numpy array is similar to a list. Its usually fixed in size and each element is of the same type."
      ]
    },
    {
      "cell_type": "code",
      "metadata": {},
      "source": [
        "#load numpy\n",
        "import numpy as np\n",
        "\n",
        "#create an array\n",
        "a = np.array([0,1,2,3,4])\n",
        "print(a)\n",
        "\n",
        "#access individual elements\n",
        "print(a[2])\n",
        "\n",
        "#check the type\n",
        "print(type(a))\n",
        "\n",
        "#obtain the data type of the array element\n",
        "print(a.dtype)\n",
        "\n",
        "#check the attribute size, the number of elements in the array\n",
        "print(a.size)\n",
        "\n",
        "#show the array dimensions\n",
        "print(a.ndim)\n",
        "\n",
        "#show the size of the array in each dimension\n",
        "print(a.shape)"
      ],
      "execution_count": null,
      "outputs": []
    },
    {
      "cell_type": "markdown",
      "metadata": {},
      "source": [
        "### Indexing and slicing\n",
        "\n",
        "Change elements of an array:"
      ]
    },
    {
      "cell_type": "code",
      "metadata": {},
      "source": [
        "#define an array\n",
        "c = np.array([20,1,2,3,4])\n",
        "print(c)\n",
        "\n",
        "#change the first element to 100\n",
        "c[0]=100\n",
        "print(c)"
      ],
      "execution_count": null,
      "outputs": []
    },
    {
      "cell_type": "markdown",
      "metadata": {},
      "source": [
        "We also can slice a numpy array:"
      ]
    },
    {
      "cell_type": "code",
      "metadata": {},
      "source": [
        "#select the elements from 1 to 3\n",
        "print(c[1:4])"
      ],
      "execution_count": null,
      "outputs": []
    },
    {
      "cell_type": "markdown",
      "metadata": {},
      "source": [
        "### Basic operations\n"
      ]
    }
  ],
  "metadata": {
    "kernelspec": {
      "name": "python3",
      "language": "python",
      "display_name": "Python 3 (ipykernel)"
    }
  },
  "nbformat": 4,
  "nbformat_minor": 4
}